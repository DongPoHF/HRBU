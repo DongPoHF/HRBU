{
 "cells": [
  {
   "cell_type": "code",
   "execution_count": 1,
   "id": "cebb214d",
   "metadata": {},
   "outputs": [],
   "source": [
    "import pandas as pd "
   ]
  },
  {
   "cell_type": "markdown",
   "id": "fdb8e98a",
   "metadata": {},
   "source": [
    "### Pandas 的 DataFrame 对象"
   ]
  },
  {
   "cell_type": "code",
   "execution_count": 3,
   "id": "82c11c1a",
   "metadata": {},
   "outputs": [
    {
     "data": {
      "text/plain": [
       "北京    1750\n",
       "南京     860\n",
       "西安     975\n",
       "dtype: int64"
      ]
     },
     "execution_count": 3,
     "metadata": {},
     "output_type": "execute_result"
    }
   ],
   "source": [
    "air_price = {\n",
    "    '北京':1750,\n",
    "    '南京':860,\n",
    "    '西安':975,}\n",
    "air_series = pd.Series(air_price)\n",
    "air_series"
   ]
  },
  {
   "cell_type": "code",
   "execution_count": 4,
   "id": "cabea376",
   "metadata": {},
   "outputs": [
    {
     "data": {
      "text/plain": [
       "北京    天安门\n",
       "南京    总统府\n",
       "西安    钟鼓楼\n",
       "dtype: object"
      ]
     },
     "execution_count": 4,
     "metadata": {},
     "output_type": "execute_result"
    }
   ],
   "source": [
    "area_dict = {\n",
    "    '北京':'天安门',\n",
    "    '南京':'总统府',\n",
    "    '西安':'钟鼓楼'}\n",
    "area_series = pd.Series(area_dict)\n",
    "area_series"
   ]
  },
  {
   "cell_type": "code",
   "execution_count": 5,
   "id": "61e815a4",
   "metadata": {},
   "outputs": [
    {
     "data": {
      "text/html": [
       "<div>\n",
       "<style scoped>\n",
       "    .dataframe tbody tr th:only-of-type {\n",
       "        vertical-align: middle;\n",
       "    }\n",
       "\n",
       "    .dataframe tbody tr th {\n",
       "        vertical-align: top;\n",
       "    }\n",
       "\n",
       "    .dataframe thead th {\n",
       "        text-align: right;\n",
       "    }\n",
       "</style>\n",
       "<table border=\"1\" class=\"dataframe\">\n",
       "  <thead>\n",
       "    <tr style=\"text-align: right;\">\n",
       "      <th></th>\n",
       "      <th>price</th>\n",
       "      <th>area</th>\n",
       "    </tr>\n",
       "  </thead>\n",
       "  <tbody>\n",
       "    <tr>\n",
       "      <th>北京</th>\n",
       "      <td>1750</td>\n",
       "      <td>天安门</td>\n",
       "    </tr>\n",
       "    <tr>\n",
       "      <th>南京</th>\n",
       "      <td>860</td>\n",
       "      <td>总统府</td>\n",
       "    </tr>\n",
       "    <tr>\n",
       "      <th>西安</th>\n",
       "      <td>975</td>\n",
       "      <td>钟鼓楼</td>\n",
       "    </tr>\n",
       "  </tbody>\n",
       "</table>\n",
       "</div>"
      ],
      "text/plain": [
       "    price area\n",
       "北京   1750  天安门\n",
       "南京    860  总统府\n",
       "西安    975  钟鼓楼"
      ]
     },
     "execution_count": 5,
     "metadata": {},
     "output_type": "execute_result"
    }
   ],
   "source": [
    "info = pd.DataFrame({'price':air_series,\n",
    "                     'area':area_series})\n",
    "info"
   ]
  },
  {
   "cell_type": "code",
   "execution_count": 6,
   "id": "1534112c",
   "metadata": {},
   "outputs": [
    {
     "data": {
      "text/plain": [
       "Index(['北京', '南京', '西安'], dtype='object')"
      ]
     },
     "execution_count": 6,
     "metadata": {},
     "output_type": "execute_result"
    }
   ],
   "source": [
    "info.index"
   ]
  },
  {
   "cell_type": "code",
   "execution_count": 7,
   "id": "9de7f557",
   "metadata": {},
   "outputs": [
    {
     "data": {
      "text/plain": [
       "Index(['price', 'area'], dtype='object')"
      ]
     },
     "execution_count": 7,
     "metadata": {},
     "output_type": "execute_result"
    }
   ],
   "source": [
    "info.columns"
   ]
  },
  {
   "cell_type": "code",
   "execution_count": 8,
   "id": "94fa7e3f",
   "metadata": {},
   "outputs": [
    {
     "data": {
      "text/plain": [
       "北京    1750\n",
       "南京     860\n",
       "西安     975\n",
       "Name: price, dtype: int64"
      ]
     },
     "execution_count": 8,
     "metadata": {},
     "output_type": "execute_result"
    }
   ],
   "source": [
    "# df 是特殊的字典\n",
    "info['price']"
   ]
  },
  {
   "cell_type": "code",
   "execution_count": null,
   "id": "6f523656",
   "metadata": {},
   "outputs": [],
   "source": []
  }
 ],
 "metadata": {
  "kernelspec": {
   "display_name": "Python 3 (ipykernel)",
   "language": "python",
   "name": "python3"
  },
  "language_info": {
   "codemirror_mode": {
    "name": "ipython",
    "version": 3
   },
   "file_extension": ".py",
   "mimetype": "text/x-python",
   "name": "python",
   "nbconvert_exporter": "python",
   "pygments_lexer": "ipython3",
   "version": "3.9.12"
  }
 },
 "nbformat": 4,
 "nbformat_minor": 5
}
