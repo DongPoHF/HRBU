{
 "cells": [
  {
   "cell_type": "code",
   "execution_count": 1,
   "id": "6f5e0414",
   "metadata": {},
   "outputs": [],
   "source": [
    "import numpy as np \n",
    "import pandas as pd"
   ]
  },
  {
   "cell_type": "code",
   "execution_count": 4,
   "id": "ca412bc6",
   "metadata": {},
   "outputs": [
    {
     "data": {
      "text/html": [
       "<div>\n",
       "<style scoped>\n",
       "    .dataframe tbody tr th:only-of-type {\n",
       "        vertical-align: middle;\n",
       "    }\n",
       "\n",
       "    .dataframe tbody tr th {\n",
       "        vertical-align: top;\n",
       "    }\n",
       "\n",
       "    .dataframe thead th {\n",
       "        text-align: right;\n",
       "    }\n",
       "</style>\n",
       "<table border=\"1\" class=\"dataframe\">\n",
       "  <thead>\n",
       "    <tr style=\"text-align: right;\">\n",
       "      <th></th>\n",
       "      <th>game</th>\n",
       "      <th>time</th>\n",
       "    </tr>\n",
       "  </thead>\n",
       "  <tbody>\n",
       "    <tr>\n",
       "      <th>fc</th>\n",
       "      <td>松鼠大作战</td>\n",
       "      <td>1990</td>\n",
       "    </tr>\n",
       "    <tr>\n",
       "      <th>sega</th>\n",
       "      <td>三国战记</td>\n",
       "      <td>1999</td>\n",
       "    </tr>\n",
       "    <tr>\n",
       "      <th>psp</th>\n",
       "      <td>啪嗒砰3</td>\n",
       "      <td>2011</td>\n",
       "    </tr>\n",
       "    <tr>\n",
       "      <th>ps</th>\n",
       "      <td>血源诅咒</td>\n",
       "      <td>2015</td>\n",
       "    </tr>\n",
       "    <tr>\n",
       "      <th>pc</th>\n",
       "      <td>GTA3</td>\n",
       "      <td>2018</td>\n",
       "    </tr>\n",
       "  </tbody>\n",
       "</table>\n",
       "</div>"
      ],
      "text/plain": [
       "       game  time\n",
       "fc    松鼠大作战  1990\n",
       "sega   三国战记  1999\n",
       "psp    啪嗒砰3  2011\n",
       "ps     血源诅咒  2015\n",
       "pc     GTA3  2018"
      ]
     },
     "execution_count": 4,
     "metadata": {},
     "output_type": "execute_result"
    }
   ],
   "source": [
    "game_name = pd.Series({\n",
    "    'fc':'松鼠大作战',\n",
    "    'sega':'三国战记',\n",
    "    'psp':'啪嗒砰3',\n",
    "    'ps':'血源诅咒',\n",
    "    'pc':'GTA3',})\n",
    "game_time = pd.Series(\n",
    "    {'fc':'1990',\n",
    "    'sega':'1999',\n",
    "    'psp':'2011',\n",
    "    'ps':'2015',\n",
    "    'pc':'2018',})\n",
    "data = pd.DataFrame({'game':game_name,'time':game_time})\n",
    "data"
   ]
  },
  {
   "cell_type": "code",
   "execution_count": 5,
   "id": "37e1cd42",
   "metadata": {},
   "outputs": [
    {
     "data": {
      "text/plain": [
       "fc      松鼠大作战\n",
       "sega     三国战记\n",
       "psp      啪嗒砰3\n",
       "ps       血源诅咒\n",
       "pc       GTA3\n",
       "Name: game, dtype: object"
      ]
     },
     "execution_count": 5,
     "metadata": {},
     "output_type": "execute_result"
    }
   ],
   "source": [
    "data['game']  # 键值对法取列"
   ]
  },
  {
   "cell_type": "code",
   "execution_count": 6,
   "id": "b1b23107",
   "metadata": {},
   "outputs": [
    {
     "data": {
      "text/plain": [
       "fc      1990\n",
       "sega    1999\n",
       "psp     2011\n",
       "ps      2015\n",
       "pc      2018\n",
       "Name: time, dtype: object"
      ]
     },
     "execution_count": 6,
     "metadata": {},
     "output_type": "execute_result"
    }
   ],
   "source": [
    "data.time    # 属性法取列"
   ]
  },
  {
   "cell_type": "code",
   "execution_count": 13,
   "id": "89359e29",
   "metadata": {},
   "outputs": [
    {
     "data": {
      "text/plain": [
       "array([['松鼠大作战', '1990'],\n",
       "       ['三国战记', '1999'],\n",
       "       ['啪嗒砰3', '2011'],\n",
       "       ['血源诅咒', '2015'],\n",
       "       ['GTA3', '2018']], dtype=object)"
      ]
     },
     "execution_count": 13,
     "metadata": {},
     "output_type": "execute_result"
    }
   ],
   "source": [
    "data.values"
   ]
  },
  {
   "cell_type": "code",
   "execution_count": 14,
   "id": "f9b42497",
   "metadata": {},
   "outputs": [],
   "source": [
    "# 行列转换\n",
    "# data.T"
   ]
  },
  {
   "cell_type": "code",
   "execution_count": 15,
   "id": "50afdcb3",
   "metadata": {},
   "outputs": [
    {
     "data": {
      "text/plain": [
       "array(['松鼠大作战', '1990'], dtype=object)"
      ]
     },
     "execution_count": 15,
     "metadata": {},
     "output_type": "execute_result"
    }
   ],
   "source": [
    "data.values[0]"
   ]
  },
  {
   "cell_type": "code",
   "execution_count": 16,
   "id": "b518fe01",
   "metadata": {},
   "outputs": [
    {
     "data": {
      "text/plain": [
       "fc      1990\n",
       "sega    1999\n",
       "psp     2011\n",
       "ps      2015\n",
       "pc      2018\n",
       "Name: time, dtype: object"
      ]
     },
     "execution_count": 16,
     "metadata": {},
     "output_type": "execute_result"
    }
   ],
   "source": [
    "data.time"
   ]
  },
  {
   "cell_type": "code",
   "execution_count": 17,
   "id": "8b677148",
   "metadata": {},
   "outputs": [
    {
     "data": {
      "text/plain": [
       "game    啪嗒砰3\n",
       "time    2011\n",
       "Name: psp, dtype: object"
      ]
     },
     "execution_count": 17,
     "metadata": {},
     "output_type": "execute_result"
    }
   ],
   "source": [
    "data.iloc[2,:]"
   ]
  },
  {
   "cell_type": "code",
   "execution_count": 18,
   "id": "cd963f1e",
   "metadata": {},
   "outputs": [
    {
     "data": {
      "text/plain": [
       "fc      松鼠大作战\n",
       "sega     三国战记\n",
       "Name: game, dtype: object"
      ]
     },
     "execution_count": 18,
     "metadata": {},
     "output_type": "execute_result"
    }
   ],
   "source": [
    "data.iloc[:2,0]"
   ]
  },
  {
   "cell_type": "code",
   "execution_count": 21,
   "id": "10e759b9",
   "metadata": {},
   "outputs": [
    {
     "data": {
      "text/plain": [
       "'松鼠大作战'"
      ]
     },
     "execution_count": 21,
     "metadata": {},
     "output_type": "execute_result"
    }
   ],
   "source": [
    "# 显示索引器 loc\n",
    "data.loc['fc','game']"
   ]
  },
  {
   "cell_type": "code",
   "execution_count": 24,
   "id": "45db2006",
   "metadata": {},
   "outputs": [],
   "source": [
    "# 其他取值\n",
    "# data['game':'time']"
   ]
  },
  {
   "cell_type": "code",
   "execution_count": 25,
   "id": "39e25794",
   "metadata": {},
   "outputs": [
    {
     "data": {
      "text/html": [
       "<div>\n",
       "<style scoped>\n",
       "    .dataframe tbody tr th:only-of-type {\n",
       "        vertical-align: middle;\n",
       "    }\n",
       "\n",
       "    .dataframe tbody tr th {\n",
       "        vertical-align: top;\n",
       "    }\n",
       "\n",
       "    .dataframe thead th {\n",
       "        text-align: right;\n",
       "    }\n",
       "</style>\n",
       "<table border=\"1\" class=\"dataframe\">\n",
       "  <thead>\n",
       "    <tr style=\"text-align: right;\">\n",
       "      <th></th>\n",
       "      <th>game</th>\n",
       "      <th>time</th>\n",
       "    </tr>\n",
       "  </thead>\n",
       "  <tbody>\n",
       "    <tr>\n",
       "      <th>fc</th>\n",
       "      <td>松鼠大作战</td>\n",
       "      <td>1990</td>\n",
       "    </tr>\n",
       "    <tr>\n",
       "      <th>sega</th>\n",
       "      <td>三国战记</td>\n",
       "      <td>1999</td>\n",
       "    </tr>\n",
       "    <tr>\n",
       "      <th>psp</th>\n",
       "      <td>啪嗒砰3</td>\n",
       "      <td>2011</td>\n",
       "    </tr>\n",
       "    <tr>\n",
       "      <th>ps</th>\n",
       "      <td>血源诅咒</td>\n",
       "      <td>2015</td>\n",
       "    </tr>\n",
       "    <tr>\n",
       "      <th>pc</th>\n",
       "      <td>GTA3</td>\n",
       "      <td>2018</td>\n",
       "    </tr>\n",
       "  </tbody>\n",
       "</table>\n",
       "</div>"
      ],
      "text/plain": [
       "       game  time\n",
       "fc    松鼠大作战  1990\n",
       "sega   三国战记  1999\n",
       "psp    啪嗒砰3  2011\n",
       "ps     血源诅咒  2015\n",
       "pc     GTA3  2018"
      ]
     },
     "execution_count": 25,
     "metadata": {},
     "output_type": "execute_result"
    }
   ],
   "source": [
    "data['fc':'pc']"
   ]
  },
  {
   "cell_type": "code",
   "execution_count": 26,
   "id": "2da0f586",
   "metadata": {},
   "outputs": [
    {
     "data": {
      "text/html": [
       "<div>\n",
       "<style scoped>\n",
       "    .dataframe tbody tr th:only-of-type {\n",
       "        vertical-align: middle;\n",
       "    }\n",
       "\n",
       "    .dataframe tbody tr th {\n",
       "        vertical-align: top;\n",
       "    }\n",
       "\n",
       "    .dataframe thead th {\n",
       "        text-align: right;\n",
       "    }\n",
       "</style>\n",
       "<table border=\"1\" class=\"dataframe\">\n",
       "  <thead>\n",
       "    <tr style=\"text-align: right;\">\n",
       "      <th></th>\n",
       "      <th>game</th>\n",
       "      <th>time</th>\n",
       "    </tr>\n",
       "  </thead>\n",
       "  <tbody>\n",
       "    <tr>\n",
       "      <th>fc</th>\n",
       "      <td>松鼠大作战</td>\n",
       "      <td>1990</td>\n",
       "    </tr>\n",
       "    <tr>\n",
       "      <th>sega</th>\n",
       "      <td>三国战记</td>\n",
       "      <td>1999</td>\n",
       "    </tr>\n",
       "    <tr>\n",
       "      <th>psp</th>\n",
       "      <td>啪嗒砰3</td>\n",
       "      <td>2011</td>\n",
       "    </tr>\n",
       "  </tbody>\n",
       "</table>\n",
       "</div>"
      ],
      "text/plain": [
       "       game  time\n",
       "fc    松鼠大作战  1990\n",
       "sega   三国战记  1999\n",
       "psp    啪嗒砰3  2011"
      ]
     },
     "execution_count": 26,
     "metadata": {},
     "output_type": "execute_result"
    }
   ],
   "source": [
    "data[0:3]"
   ]
  },
  {
   "cell_type": "code",
   "execution_count": null,
   "id": "87eb8f8f",
   "metadata": {},
   "outputs": [],
   "source": []
  }
 ],
 "metadata": {
  "kernelspec": {
   "display_name": "Python 3 (ipykernel)",
   "language": "python",
   "name": "python3"
  },
  "language_info": {
   "codemirror_mode": {
    "name": "ipython",
    "version": 3
   },
   "file_extension": ".py",
   "mimetype": "text/x-python",
   "name": "python",
   "nbconvert_exporter": "python",
   "pygments_lexer": "ipython3",
   "version": "3.9.12"
  }
 },
 "nbformat": 4,
 "nbformat_minor": 5
}
