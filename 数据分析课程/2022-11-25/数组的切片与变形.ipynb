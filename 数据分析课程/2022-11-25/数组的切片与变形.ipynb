{
 "cells": [
  {
   "cell_type": "code",
   "execution_count": 30,
   "id": "51fffd0d",
   "metadata": {},
   "outputs": [],
   "source": [
    "import numpy as np \n",
    "import imageio\n",
    "import matplotlib.pyplot as plt "
   ]
  },
  {
   "cell_type": "code",
   "execution_count": 2,
   "id": "67550db6",
   "metadata": {},
   "outputs": [
    {
     "data": {
      "text/plain": [
       "array([0, 1, 2, 3, 4, 5, 6, 7, 8, 9])"
      ]
     },
     "execution_count": 2,
     "metadata": {},
     "output_type": "execute_result"
    }
   ],
   "source": [
    "# 数组的切片（取片）：取新的子数组\n",
    "# 和python的切片相同\n",
    "# x[start:end:step]\n",
    "x = np.arange(10)\n",
    "x"
   ]
  },
  {
   "cell_type": "code",
   "execution_count": 3,
   "id": "ef50bb28",
   "metadata": {},
   "outputs": [
    {
     "data": {
      "text/plain": [
       "array([0, 1, 2, 3, 4])"
      ]
     },
     "execution_count": 3,
     "metadata": {},
     "output_type": "execute_result"
    }
   ],
   "source": [
    "x[:5]"
   ]
  },
  {
   "cell_type": "code",
   "execution_count": 4,
   "id": "4a08309e",
   "metadata": {},
   "outputs": [
    {
     "data": {
      "text/plain": [
       "array([5, 6, 7, 8, 9])"
      ]
     },
     "execution_count": 4,
     "metadata": {},
     "output_type": "execute_result"
    }
   ],
   "source": [
    "x[5:]"
   ]
  },
  {
   "cell_type": "code",
   "execution_count": 5,
   "id": "7628df5a",
   "metadata": {},
   "outputs": [
    {
     "data": {
      "text/plain": [
       "array([4, 5, 6])"
      ]
     },
     "execution_count": 5,
     "metadata": {},
     "output_type": "execute_result"
    }
   ],
   "source": [
    "x[4:7]"
   ]
  },
  {
   "cell_type": "code",
   "execution_count": 6,
   "id": "8393456e",
   "metadata": {},
   "outputs": [
    {
     "data": {
      "text/plain": [
       "array([0, 2, 4, 6, 8])"
      ]
     },
     "execution_count": 6,
     "metadata": {},
     "output_type": "execute_result"
    }
   ],
   "source": [
    "x[::2]"
   ]
  },
  {
   "cell_type": "code",
   "execution_count": 7,
   "id": "3a2b56d6",
   "metadata": {},
   "outputs": [
    {
     "data": {
      "text/plain": [
       "array([1, 3, 5, 7, 9])"
      ]
     },
     "execution_count": 7,
     "metadata": {},
     "output_type": "execute_result"
    }
   ],
   "source": [
    "x[1::2]"
   ]
  },
  {
   "cell_type": "code",
   "execution_count": 8,
   "id": "ae57d6fa",
   "metadata": {},
   "outputs": [
    {
     "data": {
      "text/plain": [
       "array([9, 8, 7, 6, 5, 4, 3, 2, 1, 0])"
      ]
     },
     "execution_count": 8,
     "metadata": {},
     "output_type": "execute_result"
    }
   ],
   "source": [
    "# 逆序\n",
    "x[::-1]"
   ]
  },
  {
   "cell_type": "code",
   "execution_count": 9,
   "id": "6d3bf263",
   "metadata": {},
   "outputs": [
    {
     "data": {
      "text/plain": [
       "array([5, 4, 3, 2, 1, 0])"
      ]
     },
     "execution_count": 9,
     "metadata": {},
     "output_type": "execute_result"
    }
   ],
   "source": [
    "x[5::-1]"
   ]
  },
  {
   "cell_type": "code",
   "execution_count": 10,
   "id": "b8a87a0f",
   "metadata": {},
   "outputs": [
    {
     "data": {
      "text/plain": [
       "array([[0.63868274, 0.32738016, 0.94886305, 0.30838306],\n",
       "       [0.2161611 , 0.50291211, 0.12811179, 0.35691813],\n",
       "       [0.78777459, 0.70824141, 0.66085106, 0.06092649]])"
      ]
     },
     "execution_count": 10,
     "metadata": {},
     "output_type": "execute_result"
    }
   ],
   "source": [
    "# 多维数组切片\n",
    "x1 = np.random.random((3,4))\n",
    "x1"
   ]
  },
  {
   "cell_type": "code",
   "execution_count": 11,
   "id": "68015968",
   "metadata": {},
   "outputs": [
    {
     "data": {
      "text/plain": [
       "(3, 4)"
      ]
     },
     "execution_count": 11,
     "metadata": {},
     "output_type": "execute_result"
    }
   ],
   "source": [
    "x1.shape"
   ]
  },
  {
   "cell_type": "code",
   "execution_count": 14,
   "id": "8b850b17",
   "metadata": {},
   "outputs": [
    {
     "data": {
      "text/plain": [
       "array([[0.63868274, 0.32738016, 0.94886305],\n",
       "       [0.2161611 , 0.50291211, 0.12811179]])"
      ]
     },
     "execution_count": 14,
     "metadata": {},
     "output_type": "execute_result"
    }
   ],
   "source": [
    "x1[:2,:3]"
   ]
  },
  {
   "cell_type": "code",
   "execution_count": 19,
   "id": "723418e7",
   "metadata": {},
   "outputs": [
    {
     "data": {
      "text/plain": [
       "array([[0.78777459, 0.66085106],\n",
       "       [0.2161611 , 0.12811179],\n",
       "       [0.63868274, 0.94886305]])"
      ]
     },
     "execution_count": 19,
     "metadata": {},
     "output_type": "execute_result"
    }
   ],
   "source": [
    "x1[2::-1,0::2]"
   ]
  },
  {
   "cell_type": "code",
   "execution_count": 20,
   "id": "c2116bb3",
   "metadata": {},
   "outputs": [
    {
     "data": {
      "text/plain": [
       "array([[0.63868274, 0.32738016, 0.94886305, 0.30838306],\n",
       "       [0.2161611 , 0.50291211, 0.12811179, 0.35691813],\n",
       "       [0.78777459, 0.70824141, 0.66085106, 0.06092649]])"
      ]
     },
     "execution_count": 20,
     "metadata": {},
     "output_type": "execute_result"
    }
   ],
   "source": [
    "x1"
   ]
  },
  {
   "cell_type": "code",
   "execution_count": 25,
   "id": "2c7610e2",
   "metadata": {},
   "outputs": [
    {
     "data": {
      "text/plain": [
       "array([0.94886305, 0.12811179, 0.66085106])"
      ]
     },
     "execution_count": 25,
     "metadata": {},
     "output_type": "execute_result"
    }
   ],
   "source": [
    "x1[:,2]"
   ]
  },
  {
   "cell_type": "code",
   "execution_count": 27,
   "id": "5d51a027",
   "metadata": {},
   "outputs": [
    {
     "data": {
      "text/plain": [
       "Array([[[  7,   1,   5],\n",
       "        [ 10,   0,   0],\n",
       "        [ 17,   0,   0],\n",
       "        ...,\n",
       "        [ 20,   0,   0],\n",
       "        [ 13,   0,   0],\n",
       "        [ 11,   0,   0]],\n",
       "\n",
       "       [[ 11,   0,   0],\n",
       "        [178, 154, 144],\n",
       "        [183, 142, 120],\n",
       "        ...,\n",
       "        [172, 141, 121],\n",
       "        [181, 157, 147],\n",
       "        [ 14,   0,   0]],\n",
       "\n",
       "       [[ 19,   0,   0],\n",
       "        [172, 137, 118],\n",
       "        [183, 127,  94],\n",
       "        ...,\n",
       "        [175, 131, 102],\n",
       "        [173, 138, 116],\n",
       "        [ 15,   0,   0]],\n",
       "\n",
       "       ...,\n",
       "\n",
       "       [[  4,   0,   0],\n",
       "        [178, 155, 139],\n",
       "        [184, 144, 118],\n",
       "        ...,\n",
       "        [182, 129,  98],\n",
       "        [172, 132, 107],\n",
       "        [ 18,   0,   0]],\n",
       "\n",
       "       [[  9,   0,   7],\n",
       "        [174, 151, 145],\n",
       "        [181, 144, 126],\n",
       "        ...,\n",
       "        [174, 139, 120],\n",
       "        [185, 162, 146],\n",
       "        [  9,   0,   0]],\n",
       "\n",
       "       [[  6,   0,   2],\n",
       "        [ 18,   0,   0],\n",
       "        [ 27,   0,   0],\n",
       "        ...,\n",
       "        [ 25,   0,   0],\n",
       "        [ 14,   0,   0],\n",
       "        [  4,   0,   0]]], dtype=uint8)"
      ]
     },
     "execution_count": 27,
     "metadata": {},
     "output_type": "execute_result"
    }
   ],
   "source": [
    "# 读取图像\n",
    "pic_array = imageio.imread('001.jpg')\n",
    "pic_array"
   ]
  },
  {
   "cell_type": "code",
   "execution_count": 28,
   "id": "e0348479",
   "metadata": {},
   "outputs": [
    {
     "data": {
      "text/plain": [
       "(28, 28, 3)"
      ]
     },
     "execution_count": 28,
     "metadata": {},
     "output_type": "execute_result"
    }
   ],
   "source": [
    "pic_array.shape"
   ]
  },
  {
   "cell_type": "code",
   "execution_count": 31,
   "id": "c5fd65d8",
   "metadata": {},
   "outputs": [
    {
     "data": {
      "text/plain": [
       "<matplotlib.image.AxesImage at 0x28e5a506fd0>"
      ]
     },
     "execution_count": 31,
     "metadata": {},
     "output_type": "execute_result"
    },
    {
     "data": {
      "image/png": "[encoded data removed]",
      "text/plain": [
       "<Figure size 432x288 with 1 Axes>"
      ]
     },
     "metadata": {
      "needs_background": "light"
     },
     "output_type": "display_data"
    }
   ],
   "source": [
    "R_c = pic_array[:,:,0]\n",
    "plt.imshow(R_c)"
   ]
  },
  {
   "cell_type": "code",
   "execution_count": 32,
   "id": "02bd8e41",
   "metadata": {},
   "outputs": [
    {
     "data": {
      "text/plain": [
       "<matplotlib.image.AxesImage at 0x28e5ac7eac0>"
      ]
     },
     "execution_count": 32,
     "metadata": {},
     "output_type": "execute_result"
    },
    {
     "data": {
      "image/png": "[encoded data removed]",
      "text/plain": [
       "<Figure size 432x288 with 1 Axes>"
      ]
     },
     "metadata": {
      "needs_background": "light"
     },
     "output_type": "display_data"
    }
   ],
   "source": [
    "plt.imshow(pic_array)"
   ]
  },
  {
   "cell_type": "code",
   "execution_count": 33,
   "id": "572908e2",
   "metadata": {},
   "outputs": [
    {
     "data": {
      "text/plain": [
       "Array([[  1,   0,   0,   0,   0,   0,   0,   0,   0,   0,   0,   0,   0,\n",
       "          0,   0,   0,   0,   1,   0,   0,   0,   0,   0,   0,   0,   0,\n",
       "          0,   0],\n",
       "       [  0, 154, 142, 140, 144, 141, 140, 139, 135, 143, 143, 145, 148,\n",
       "        141, 142, 139, 148, 144, 142, 141, 141, 143, 140, 142, 149, 141,\n",
       "        157,   0],\n",
       "       [  0, 137, 127, 121, 114, 124, 125, 125, 126, 120, 128, 124, 123,\n",
       "        117, 117, 125, 123, 124, 124, 123, 120, 125, 123, 126, 123, 131,\n",
       "        138,   0],\n",
       "       [  0, 138, 120, 129, 143, 126,  85,  81,  81, 138, 124, 123, 120,\n",
       "        122, 119, 122, 114, 123, 119, 120, 120, 118, 123, 125, 123, 127,\n",
       "        129,   0],\n",
       "       [  0, 141, 137,  59,   0,   0,  33,  36,   0,  98, 128, 127, 118,\n",
       "        115, 121, 118, 119, 117, 116, 119, 121, 118, 123, 119, 120, 122,\n",
       "        139,   0],\n",
       "       [  0, 133, 131,  51, 140, 144, 143, 156,  15,  99, 134, 120, 117,\n",
       "        124, 121, 126, 124, 122, 123, 123, 123, 126, 125, 120, 123, 121,\n",
       "        128,   0],\n",
       "       [  0, 138, 127, 126, 115, 126, 126, 136,   0, 138, 123, 120, 114,\n",
       "        126, 119, 126,  69, 130, 126, 125, 127, 127, 123, 119, 118, 119,\n",
       "        137,   0],\n",
       "       [  1, 134, 120, 116, 116, 121, 133,  64,  24, 136, 118, 114, 120,\n",
       "        120, 132, 106,   0, 138, 128, 132, 141, 128, 122, 120, 117, 125,\n",
       "        130,   0],\n",
       "       [  3, 141, 120, 122, 118, 125, 152,   0, 134, 127, 117, 124, 117,\n",
       "        122, 129, 112,   0, 140, 128, 123,   0, 139, 123, 119, 118, 122,\n",
       "        134,   0],\n",
       "       [  1, 134, 129, 121, 122, 132,   0,  26,  86, 115, 144, 136, 125,\n",
       "        120, 123, 109,   0, 141, 146,  10,  49, 134, 122, 119, 118, 123,\n",
       "        134,   0],\n",
       "       [  0, 140, 116, 118, 122, 139,  71,  34,  32,   0,   0,   0,  88,\n",
       "        122, 124, 100,   0, 153,  89,   0, 145, 120, 123, 119, 120, 125,\n",
       "        135,   0],\n",
       "       [  0, 135, 122, 121, 123, 121, 128, 136, 138, 169,  79,  18, 136,\n",
       "        115, 122, 100,   0, 143,   0, 141, 126, 118, 123, 118, 121, 125,\n",
       "        134,   0],\n",
       "       [  0, 135, 123, 119, 115, 125, 126, 120, 138,  75,   0, 145, 122,\n",
       "        122, 129, 110,   3,   0, 153, 136, 124, 122, 116, 125, 123, 125,\n",
       "        135,   0],\n",
       "       [  0, 136, 125, 119, 122, 126, 117, 133, 124,   0, 141, 123, 124,\n",
       "        127, 151,  90,   1, 137,   0,  53, 127, 124, 118, 118, 122, 126,\n",
       "        135,   0],\n",
       "       [  0, 139, 120, 121, 122, 121, 127, 153,   0, 108, 134, 136, 144,\n",
       "        117,  12,   0,   6,   0,  20, 137, 118, 116, 125, 123, 122, 126,\n",
       "        136,   0],\n",
       "       [  0, 133, 122, 114, 116, 122, 142,  13,  81, 147, 133,   0,   0,\n",
       "          0,  46, 114, 144,   0, 150, 125, 122, 123, 120, 119, 122, 126,\n",
       "        136,   0],\n",
       "       [  0, 134, 126, 116, 119, 153,  25,  45, 106,  32,   9,  76, 116,\n",
       "        151, 132, 154,   7, 115, 118, 107, 100, 103, 125, 128, 128, 126,\n",
       "        139,   0],\n",
       "       [  0, 137, 121, 119, 143,  46,   4,   0,  21,  83,   0, 150, 126,\n",
       "        118, 132,  72,  21,   0,   0,  24,   6,   0,   0, 139, 122, 120,\n",
       "        136,   0],\n",
       "       [  0, 134, 123, 134,  19,   4, 108, 147, 141, 135,   0, 139, 117,\n",
       "        119, 135,   0, 126, 134,  21,  13, 141, 111,   8, 133, 116, 126,\n",
       "        131,   0],\n",
       "       [  0, 135, 125, 125, 127, 136, 131, 119, 121, 125,   0, 145, 123,\n",
       "        122, 133,   0, 150, 129, 155, 116,   6,   0,  62, 150, 129, 125,\n",
       "        137,   0],\n",
       "       [  0, 131, 124, 129, 126, 122, 121, 111, 120, 106,   0, 144, 122,\n",
       "        124, 140,   0, 100,  80,  87,  65,   0,  64,   3,   3,  82, 115,\n",
       "        140,   0],\n",
       "       [  0, 141, 124, 126, 120, 117, 112, 126, 157,   0,  94, 130, 123,\n",
       "        124, 130,  96,  27,  32,  25,  61, 120, 142, 147, 121,  21,  77,\n",
       "        143,   0],\n",
       "       [  0, 142, 124, 119, 123, 122, 140, 140,   0,  50, 139, 122, 117,\n",
       "        124, 126, 123, 133, 133, 134, 127, 126, 119, 124, 129, 136, 131,\n",
       "        135,   0],\n",
       "       [  2,  71, 139, 133, 130, 132,  48,   0,  78, 143, 124, 113, 119,\n",
       "        118, 118, 124, 117, 119, 115, 118, 118, 120, 116, 117, 118, 123,\n",
       "        136,   0],\n",
       "       [  3,   0,   0,   0,   0,   0,  51, 136, 127, 124, 120, 118, 120,\n",
       "        122, 123, 121, 118, 118, 118, 118, 117, 117, 117, 117, 118, 123,\n",
       "        134,   0],\n",
       "       [  0, 155, 144, 144, 141, 141, 137, 125, 122, 121, 121, 124, 127,\n",
       "        127, 125, 122, 124, 124, 124, 123, 123, 122, 122, 121, 121, 129,\n",
       "        132,   0],\n",
       "       [  0, 151, 144, 145, 144, 144, 144, 144, 143, 141, 141, 145, 147,\n",
       "        147, 142, 139, 146, 146, 146, 147, 147, 146, 145, 143, 146, 139,\n",
       "        162,   0],\n",
       "       [  0,   0,   0,   0,   0,   0,   0,   0,   0,   0,   0,   0,   0,\n",
       "          0,   0,   0,   0,   0,   0,   0,   0,   0,   0,   0,   0,   0,\n",
       "          0,   0]], dtype=uint8)"
      ]
     },
     "execution_count": 33,
     "metadata": {},
     "output_type": "execute_result"
    }
   ],
   "source": [
    "G_c = pic_array[:,:,1]\n",
    "G_c"
   ]
  },
  {
   "cell_type": "code",
   "execution_count": 34,
   "id": "d0d31495",
   "metadata": {},
   "outputs": [
    {
     "data": {
      "text/plain": [
       "array([1, 2, 3, 4, 5, 6, 7, 8, 9])"
      ]
     },
     "execution_count": 34,
     "metadata": {},
     "output_type": "execute_result"
    }
   ],
   "source": [
    "# 数组的变形\n",
    "# reshape\n",
    "grid = np.arange(1,10)\n",
    "grid"
   ]
  },
  {
   "cell_type": "code",
   "execution_count": 35,
   "id": "8b858f08",
   "metadata": {},
   "outputs": [
    {
     "data": {
      "text/plain": [
       "array([[1, 2, 3],\n",
       "       [4, 5, 6],\n",
       "       [7, 8, 9]])"
      ]
     },
     "execution_count": 35,
     "metadata": {},
     "output_type": "execute_result"
    }
   ],
   "source": [
    "grid.reshape((3,3))"
   ]
  },
  {
   "cell_type": "code",
   "execution_count": 36,
   "id": "251b0643",
   "metadata": {},
   "outputs": [
    {
     "data": {
      "text/plain": [
       "(28, 28)"
      ]
     },
     "execution_count": 36,
     "metadata": {},
     "output_type": "execute_result"
    }
   ],
   "source": [
    "B_c = pic_array[:,:,2]\n",
    "B_c.shape"
   ]
  },
  {
   "cell_type": "code",
   "execution_count": 37,
   "id": "10d4ace4",
   "metadata": {},
   "outputs": [
    {
     "data": {
      "text/plain": [
       "Array([  5,   0,   0,   0,   0,   0,   0,   0,   0,   0,   0,   0,   0,\n",
       "         0,   0,   0,   0,   0,   0,   0,   0,   0,   0,   0,   0,   0,\n",
       "         0,   0,   0, 144, 120, 104, 106, 114, 127, 130, 124, 123, 118,\n",
       "       121, 123, 118, 123, 125, 126, 121, 123, 125, 125, 127, 118, 117,\n",
       "       123, 121, 147,   0,   0, 118,  94,  73,  65,  86, 101, 106, 100,\n",
       "        91,  98,  93,  89,  81,  82,  95,  94,  97,  97,  97,  92,  96,\n",
       "        92,  95,  90, 102, 116,   0,   0, 118,  93,  94, 106,  94,  58,\n",
       "        51,  46, 101,  85,  85,  80,  79,  75,  80,  79,  90,  86,  85,\n",
       "        83,  82,  88,  93,  89,  90,  98,   0,   0, 123, 121,  46,   0,\n",
       "         0,   6,   4,   0,  63,  89,  86,  83,  80,  81,  73,  85,  82,\n",
       "        79,  78,  79,  76,  88,  84,  84,  85, 107,   0,   0, 114, 116,\n",
       "        45, 132, 126, 115, 130,   0,  78, 103,  85,  91, 105,  93,  85,\n",
       "        96,  87,  82,  80,  81,  87,  91,  85,  88,  86, 105,   0,   0,\n",
       "       112,  99, 104,  94, 101, 100, 120,   0, 127,  94,  86,  92, 112,\n",
       "        96,  88,  46,  99,  87,  82,  88,  92,  91,  85,  85,  91, 122,\n",
       "         0,   0, 102,  81,  75,  76,  90, 113,  57,  16, 114,  81,  75,\n",
       "        89,  97, 101,  64,   0, 114,  94,  94, 108,  98,  91,  84,  82,\n",
       "       100, 118,   0,   0, 111,  82,  74,  73,  95, 142,   0, 115,  90,\n",
       "        74,  83,  82,  86,  89,  69,   0, 122, 103,  93,   0, 108,  87,\n",
       "        80,  83,  96, 118,   0,   0, 113, 100,  79,  80, 107,   0,  14,\n",
       "        57,  75, 111, 113,  96,  81,  80,  69,   0, 130, 129,   0,  23,\n",
       "       103,  85,  80,  83,  96, 115,   0,   0, 128,  96,  84,  84, 110,\n",
       "        48,   8,   0,   0,   0,   0,  74,  90,  88,  69,   0, 148,  81,\n",
       "         0, 120,  85,  85,  81,  86,  94, 109,   0,   0, 123,  99,  89,\n",
       "        86,  84,  89, 100, 110, 159,  82,  18, 119,  84,  90,  72,   0,\n",
       "       140,   0, 131, 102,  84,  85,  83,  90,  94, 108,   0,   0, 116,\n",
       "        94,  86,  79,  84,  82,  83, 113,  64,   0, 125,  91,  87,  99,\n",
       "        83,   0,   0, 149, 124, 100,  90,  81,  90,  90,  94, 109,   0,\n",
       "         0, 111,  92,  84,  87,  89,  79, 101, 100,   0, 109,  85,  87,\n",
       "        98, 124,  62,   0, 129,   0,  36, 103,  95,  83,  80,  85,  91,\n",
       "       111,   0,   0, 112,  88,  83,  84,  87, 100, 134,   0,  80,  97,\n",
       "       105, 128, 110,   0,   0,   2,   0,   1, 113,  94,  89,  90,  81,\n",
       "        78,  87, 111,   0,   0, 111,  95,  77,  74,  87, 123,   3,  65,\n",
       "       118, 104,   0,   0,  11,  47,  99, 139,   0, 125,  97,  96,  97,\n",
       "        86,  74,  70,  84, 111,   0,   0, 119,  95,  74,  80, 133,  26,\n",
       "        56, 111,  28,   0,  57,  83, 105,  85, 112,   2, 108, 108,  95,\n",
       "        86,  85, 103, 101, 100, 100, 119,   0,   0, 118,  93,  85, 116,\n",
       "        33,   0,   0,   9,  69,   0, 132,  99,  83, 102,  53,   5,   0,\n",
       "         0,  11,   0,   0,   0, 115,  91,  90, 112,   0,   0, 112,  92,\n",
       "       102,   0,   0,  95, 122, 110, 109,   0, 120,  90,  92, 123,   1,\n",
       "        98, 108,   1,   0, 132, 104,   0, 109,  84,  92, 103,   0,   0,\n",
       "       109,  83,  85,  99, 116, 106,  82,  82,  96,   0, 120,  87,  88,\n",
       "       121,   4, 125, 106, 135, 101,   0,   0,  48, 128,  98,  94, 110,\n",
       "         0,   0, 108,  77,  77,  84,  89,  88,  74,  85,  79,   0, 112,\n",
       "        80,  84, 115,   0,  88,  66,  72,  47,   0,  46,   0,   0,  55,\n",
       "        90, 119,   0,   0, 123,  82,  75,  75,  81,  79,  96, 132,   0,\n",
       "        69,  99,  86,  87, 100,  70,  18,  18,   6,  36,  93, 114, 120,\n",
       "        93,   0,  54, 126,   0,   0, 129,  92,  80,  86,  91, 115, 119,\n",
       "         0,  27, 108,  89,  88,  98,  96,  86, 110, 106, 105,  96,  95,\n",
       "        87,  91,  93, 101, 101, 115,   0,   0,  54, 112, 103, 102, 107,\n",
       "        29,   0,  61, 114,  85,  75,  93,  97,  87,  80,  74,  77,  79,\n",
       "        85,  88,  88,  82,  76,  76,  86, 111,   0,   0,   0,   0,   0,\n",
       "         0,   0,  32, 116, 102,  91,  79,  78,  88,  94,  89,  79,  69,\n",
       "        72,  79,  86,  92,  92,  86,  79,  76,  84, 107,   0,   0, 139,\n",
       "       118, 122, 127, 127, 117,  98,  94,  93,  92,  90,  92,  93,  92,\n",
       "        88,  90,  90,  90,  93,  97, 101,  99,  93,  91,  98, 107,   0,\n",
       "         7, 145, 126, 127, 131, 129, 120, 115, 118, 125, 127, 123, 118,\n",
       "       116, 117, 117, 130, 126, 121, 118, 119, 123, 126, 126, 130, 120,\n",
       "       146,   0,   2,   0,   0,   0,   0,   0,   0,   0,   0,   0,   0,\n",
       "         0,   0,   0,   0,   0,   0,   0,   0,   0,   0,   0,   0,   0,\n",
       "         0,   0,   0,   0], dtype=uint8)"
      ]
     },
     "execution_count": 37,
     "metadata": {},
     "output_type": "execute_result"
    }
   ],
   "source": [
    "B_c.reshape((784,))"
   ]
  },
  {
   "cell_type": "code",
   "execution_count": 40,
   "id": "d6443a10",
   "metadata": {},
   "outputs": [
    {
     "data": {
      "text/plain": [
       "array([1, 2, 3, 4, 5, 6, 7, 8])"
      ]
     },
     "execution_count": 40,
     "metadata": {},
     "output_type": "execute_result"
    }
   ],
   "source": [
    "x = np.arange(1,9)\n",
    "x"
   ]
  },
  {
   "cell_type": "code",
   "execution_count": 41,
   "id": "b1d83889",
   "metadata": {},
   "outputs": [
    {
     "data": {
      "text/plain": [
       "array([[1, 2, 3, 4],\n",
       "       [5, 6, 7, 8]])"
      ]
     },
     "execution_count": 41,
     "metadata": {},
     "output_type": "execute_result"
    }
   ],
   "source": [
    "x.reshape((2,4))"
   ]
  },
  {
   "cell_type": "code",
   "execution_count": 42,
   "id": "c6c7074b",
   "metadata": {},
   "outputs": [
    {
     "data": {
      "text/plain": [
       "array([[1, 2, 3, 4, 5, 6, 7, 8]])"
      ]
     },
     "execution_count": 42,
     "metadata": {},
     "output_type": "execute_result"
    }
   ],
   "source": [
    "x.reshape((1,8))"
   ]
  },
  {
   "cell_type": "code",
   "execution_count": 43,
   "id": "c6392bd4",
   "metadata": {},
   "outputs": [
    {
     "data": {
      "text/plain": [
       "array([[1, 2],\n",
       "       [3, 4],\n",
       "       [5, 6],\n",
       "       [7, 8]])"
      ]
     },
     "execution_count": 43,
     "metadata": {},
     "output_type": "execute_result"
    }
   ],
   "source": [
    "x.reshape((4,2))"
   ]
  },
  {
   "cell_type": "code",
   "execution_count": 44,
   "id": "0e5546d3",
   "metadata": {},
   "outputs": [
    {
     "ename": "ValueError",
     "evalue": "cannot reshape array of size 8 into shape (2,5)",
     "output_type": "error",
     "traceback": [
      "\u001b[1;31m---------------------------------------------------------------------------\u001b[0m",
      "\u001b[1;31mValueError\u001b[0m                                Traceback (most recent call last)",
      "Input \u001b[1;32mIn [44]\u001b[0m, in \u001b[0;36m<cell line: 1>\u001b[1;34m()\u001b[0m\n\u001b[1;32m----> 1\u001b[0m \u001b[43mx\u001b[49m\u001b[38;5;241;43m.\u001b[39;49m\u001b[43mreshape\u001b[49m\u001b[43m(\u001b[49m\u001b[43m(\u001b[49m\u001b[38;5;241;43m2\u001b[39;49m\u001b[43m,\u001b[49m\u001b[38;5;241;43m5\u001b[39;49m\u001b[43m)\u001b[49m\u001b[43m)\u001b[49m\n",
      "\u001b[1;31mValueError\u001b[0m: cannot reshape array of size 8 into shape (2,5)"
     ]
    }
   ],
   "source": [
    "x.reshape((2,5))"
   ]
  },
  {
   "cell_type": "code",
   "execution_count": 48,
   "id": "ea880cf3",
   "metadata": {},
   "outputs": [
    {
     "data": {
      "text/plain": [
       "array([1, 2, 3])"
      ]
     },
     "execution_count": 48,
     "metadata": {},
     "output_type": "execute_result"
    }
   ],
   "source": [
    "x = np.array([1,2,3])\n",
    "x"
   ]
  },
  {
   "cell_type": "code",
   "execution_count": 49,
   "id": "b73b0cba",
   "metadata": {},
   "outputs": [],
   "source": [
    "# x.reshape((1,3))"
   ]
  },
  {
   "cell_type": "code",
   "execution_count": 51,
   "id": "44d35fd5",
   "metadata": {},
   "outputs": [
    {
     "data": {
      "text/plain": [
       "array([[1, 2, 3]])"
      ]
     },
     "execution_count": 51,
     "metadata": {},
     "output_type": "execute_result"
    }
   ],
   "source": [
    "x[np.newaxis,:]"
   ]
  },
  {
   "cell_type": "code",
   "execution_count": 52,
   "id": "196a9b38",
   "metadata": {},
   "outputs": [
    {
     "data": {
      "text/plain": [
       "array([[1],\n",
       "       [2],\n",
       "       [3]])"
      ]
     },
     "execution_count": 52,
     "metadata": {},
     "output_type": "execute_result"
    }
   ],
   "source": [
    "x[:,np.newaxis]"
   ]
  },
  {
   "cell_type": "code",
   "execution_count": null,
   "id": "5bbaeadd",
   "metadata": {},
   "outputs": [],
   "source": []
  }
 ],
 "metadata": {
  "kernelspec": {
   "display_name": "Python 3 (ipykernel)",
   "language": "python",
   "name": "python3"
  },
  "language_info": {
   "codemirror_mode": {
    "name": "ipython",
    "version": 3
   },
   "file_extension": ".py",
   "mimetype": "text/x-python",
   "name": "python",
   "nbconvert_exporter": "python",
   "pygments_lexer": "ipython3",
   "version": "3.9.12"
  }
 },
 "nbformat": 4,
 "nbformat_minor": 5
}
